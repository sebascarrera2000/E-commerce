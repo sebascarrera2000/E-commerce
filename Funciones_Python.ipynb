{
  "nbformat": 4,
  "nbformat_minor": 0,
  "metadata": {
    "colab": {
      "provenance": [],
      "collapsed_sections": [
        "kfTKQO_NxyyX",
        "dVVCGcUI0Bj9",
        "-QaRXymZ8ctt",
        "RoO9Bo0J3G9d",
        "ygpd2RTf4qS1",
        "2QwzeqOt6wwU"
      ],
      "authorship_tag": "ABX9TyPU2gsQnzlm6Q1wtuKdKRHi",
      "include_colab_link": true
    },
    "kernelspec": {
      "name": "python3",
      "display_name": "Python 3"
    },
    "language_info": {
      "name": "python"
    }
  },
  "cells": [
    {
      "cell_type": "markdown",
      "metadata": {
        "id": "view-in-github",
        "colab_type": "text"
      },
      "source": [
        "<a href=\"https://colab.research.google.com/github/sebascarrera2000/E-commerce/blob/master/Funciones_Python.ipynb\" target=\"_parent\"><img src=\"https://colab.research.google.com/assets/colab-badge.svg\" alt=\"Open In Colab\"/></a>"
      ]
    },
    {
      "cell_type": "markdown",
      "source": [
        "**Funciones con listas y vectores** \n",
        "\n",
        "*`By :Juan Sebastian Carrera Bolaños`*\n"
      ],
      "metadata": {
        "id": "6QCFTaHdo6Mv"
      }
    },
    {
      "cell_type": "markdown",
      "source": [
        "1. Creamos tres listas para poder hacer todas las pruebas\n"
      ],
      "metadata": {
        "id": "bOVKV1zCpt4s"
      }
    },
    {
      "cell_type": "code",
      "source": [
        "CombatPlanes = ['F-35 Lightning II', 'F-22 Raptor', 'Eurofighter Typhoon', 'Sukhoi Su-35', 'F/A-18E/F Super Hornet','Dassault Rafale','Boeing F-15E Strike Eagle' ,'Saab JAS 39 Gripen']\n",
        "Airports = ['Aeropuerto De Changi', 'Aeropuerto Internacional de Incheon', 'Aeropuerto Internacional de Haneda', 'Aeropuerto Internacional de Hong Kong ']\n",
        "Codes =[1313,1564,5464,4656,3235,8956]"
      ],
      "metadata": {
        "id": "A2aBxLUZp-J1"
      },
      "execution_count": null,
      "outputs": []
    },
    {
      "cell_type": "markdown",
      "source": [
        "2. Lo primero que podemos hacer es imprimir las tres diferentes lineas"
      ],
      "metadata": {
        "id": "uyMfogdPwvKG"
      }
    },
    {
      "cell_type": "code",
      "source": [
        "for dataCombat in CombatPlanes:\n",
        "    print (dataCombat)"
      ],
      "metadata": {
        "colab": {
          "base_uri": "https://localhost:8080/"
        },
        "id": "RJEhvzxUw3sG",
        "outputId": "3fd98f33-7c0b-4a91-991d-fdc88ab25557"
      },
      "execution_count": null,
      "outputs": [
        {
          "output_type": "stream",
          "name": "stdout",
          "text": [
            "F-35 Lightning II\n",
            "F-22 Raptor\n",
            " Eurofighter Typhoon\n",
            "Sukhoi Su-35\n",
            " F/A-18E/F Super Hornet\n",
            "Dassault Rafale\n",
            "Boeing F-15E Strike Eagle\n",
            "Saab JAS 39 Gripen\n"
          ]
        }
      ]
    },
    {
      "cell_type": "code",
      "source": [
        "for dataAirports in Airports:\n",
        "    print (dataAirports)"
      ],
      "metadata": {
        "colab": {
          "base_uri": "https://localhost:8080/"
        },
        "id": "Z6HX-TRmxHZu",
        "outputId": "975f12f3-1f7c-413c-d807-57be43803f78"
      },
      "execution_count": null,
      "outputs": [
        {
          "output_type": "stream",
          "name": "stdout",
          "text": [
            "Aeropuerto De Changi\n",
            "Aeropuerto Internacional de Incheon\n",
            "Aeropuerto Internacional de Haneda\n",
            "Aeropuerto Internacional de Hong Kong \n"
          ]
        }
      ]
    },
    {
      "cell_type": "code",
      "source": [
        "for dataCodes in Codes:\n",
        "    print (dataCodes)"
      ],
      "metadata": {
        "colab": {
          "base_uri": "https://localhost:8080/"
        },
        "id": "zxH3Jpnbxflv",
        "outputId": "9b2698de-8199-415f-9333-7be4f344e599"
      },
      "execution_count": null,
      "outputs": [
        {
          "output_type": "stream",
          "name": "stdout",
          "text": [
            "1313\n",
            "1564\n",
            "5464\n",
            "4656\n",
            "3235\n",
            "8956\n"
          ]
        }
      ]
    },
    {
      "cell_type": "markdown",
      "source": [
        "1.funcion para listas para utilizar en python es : \n",
        "\n",
        "## append() \n",
        "\n",
        "\n",
        "*Lo cual sirve para añadir un elemento al final de una lista.*"
      ],
      "metadata": {
        "id": "kfTKQO_NxyyX"
      }
    },
    {
      "cell_type": "code",
      "source": [
        "CombatPlanes.append('F-48')\n",
        "Airports.append('Aeropuerto Internacional de Miami')\n",
        "Codes.append (2354)\n"
      ],
      "metadata": {
        "id": "u9uyI0E9yYol"
      },
      "execution_count": null,
      "outputs": []
    },
    {
      "cell_type": "code",
      "source": [
        "for dataAirports in Airports:\n",
        "    print (dataAirports)\n",
        "for dataCodes in Codes:\n",
        "    print (dataCodes)\n",
        "for dataCombat in CombatPlanes:\n",
        "    print (dataCombat)\n"
      ],
      "metadata": {
        "colab": {
          "base_uri": "https://localhost:8080/"
        },
        "id": "EkD11tP_zhef",
        "outputId": "801ef60e-e139-43d6-879f-b97ee07fe6bf"
      },
      "execution_count": null,
      "outputs": [
        {
          "output_type": "stream",
          "name": "stdout",
          "text": [
            "Aeropuerto De Changi\n",
            "Aeropuerto Internacional de Incheon\n",
            "Aeropuerto Internacional de Haneda\n",
            "Aeropuerto Internacional de Hong Kong \n",
            "Aeropuerto Internacional de Miami\n",
            "Aeropuerto Internacional de Miami\n",
            "1313\n",
            "1564\n",
            "5464\n",
            "4656\n",
            "3235\n",
            "8956\n",
            "2354\n",
            "2354\n",
            "F-35 Lightning II\n",
            "F-22 Raptor\n",
            "Eurofighter Typhoon\n",
            "Sukhoi Su-35\n",
            "F/A-18E/F Super Hornet\n",
            "Dassault Rafale\n",
            "Boeing F-15E Strike Eagle\n",
            "Saab JAS 39 Gripen\n",
            "F-48\n",
            "F-48\n"
          ]
        }
      ]
    },
    {
      "cell_type": "markdown",
      "source": [
        "2.funcion para listas para utilizar en python es : \n",
        "\n",
        "## extend() \n",
        "\n",
        "\n",
        "*Lo cual sirve para añadir un  grupo de elementos (iterables) al final de la lista.*"
      ],
      "metadata": {
        "id": "dVVCGcUI0Bj9"
      }
    },
    {
      "cell_type": "code",
      "source": [
        "CombatPlanes.extend(Codes)\n",
        "Airports.extend(Codes)"
      ],
      "metadata": {
        "id": "tTmt8gzw2EiP"
      },
      "execution_count": null,
      "outputs": []
    },
    {
      "cell_type": "code",
      "source": [
        "for dataAirports in Airports:\n",
        "    print (dataAirports)\n",
        "for dataCodes in Codes:\n",
        "    print (dataCodes)\n",
        "for dataCombat in CombatPlanes:\n",
        "    print (dataCombat)"
      ],
      "metadata": {
        "colab": {
          "base_uri": "https://localhost:8080/"
        },
        "id": "tRlWgO-p22be",
        "outputId": "89f206e1-fccb-407c-cec3-fbff2f6e42a6"
      },
      "execution_count": null,
      "outputs": [
        {
          "output_type": "stream",
          "name": "stdout",
          "text": [
            "Aeropuerto De Changi\n",
            "Aeropuerto Internacional de Incheon\n",
            "Aeropuerto Internacional de Haneda\n",
            "Aeropuerto Internacional de Miami\n",
            "Aeropuerto Internacional de Hong Kong \n",
            "Aeropuerto Internacional de Miami\n",
            "Aeropuerto Internacional de Miami\n",
            "1313\n",
            "1564\n",
            "5464\n",
            "4656\n",
            "3235\n",
            "8956\n",
            "2354\n",
            "2354\n",
            "1313\n",
            "1564\n",
            "5464\n",
            "4656\n",
            "3235\n",
            "2354\n",
            "8956\n",
            "2354\n",
            "2354\n",
            "F-35 Lightning II\n",
            "F-48\n",
            "F-22 Raptor\n",
            "Eurofighter Typhoon\n",
            "Sukhoi Su-35\n",
            "F/A-18E/F Super Hornet\n",
            "Dassault Rafale\n",
            "Boeing F-15E Strike Eagle\n",
            "Saab JAS 39 Gripen\n",
            "F-48\n",
            "F-48\n",
            "1313\n",
            "1564\n",
            "5464\n",
            "4656\n",
            "3235\n",
            "8956\n",
            "2354\n",
            "2354\n",
            "1313\n",
            "1564\n",
            "5464\n",
            "4656\n",
            "3235\n",
            "8956\n",
            "2354\n",
            "2354\n"
          ]
        }
      ]
    },
    {
      "cell_type": "markdown",
      "source": [
        "3.funcion para listas para utilizar en python es : \n",
        "\n",
        "## clear()\n",
        "\n",
        "*En esta funcion sirve para Borrar todos los elementos de la lista..*"
      ],
      "metadata": {
        "id": "-QaRXymZ8ctt"
      }
    },
    {
      "cell_type": "code",
      "source": [
        "   CombatPlanes.clear()\n",
        "   Airports.clear()"
      ],
      "metadata": {
        "id": "EoyIkJ0l8PqE"
      },
      "execution_count": null,
      "outputs": []
    },
    {
      "cell_type": "code",
      "source": [
        "for dataAirports in Airports:\n",
        "    print (dataAirports)\n",
        "for dataCodes in Codes:\n",
        "    print (dataCodes)\n",
        "for dataCombat in CombatPlanes:\n",
        "    print (dataCombat)"
      ],
      "metadata": {
        "colab": {
          "base_uri": "https://localhost:8080/"
        },
        "id": "-gFVepeE8yM-",
        "outputId": "722ed228-96c9-4d7b-95cb-1919d8a887ca"
      },
      "execution_count": null,
      "outputs": [
        {
          "output_type": "stream",
          "name": "stdout",
          "text": [
            "1313\n",
            "1564\n",
            "5464\n",
            "4656\n",
            "3235\n",
            "5554\n",
            "2354\n",
            "8956\n",
            "2354\n",
            "2354\n"
          ]
        }
      ]
    },
    {
      "cell_type": "markdown",
      "source": [
        "4\n",
        ".funcion para listas para utilizar en python es : \n",
        "\n",
        "## insert(indice, elemento)\n",
        "\n",
        "*En esta funcion sirve para Insertar un elemento en una posición concreta de la lista.*"
      ],
      "metadata": {
        "id": "RoO9Bo0J3G9d"
      }
    },
    {
      "cell_type": "code",
      "source": [
        "CombatPlanes.insert(1,'F-49- BlackHawk') \n",
        "Airports.insert(1,'Aeropuerto Internacional de Toronto')\n",
        "Codes.insert(6,5554)\n"
      ],
      "metadata": {
        "id": "9M8uxNmF3dSW"
      },
      "execution_count": null,
      "outputs": []
    },
    {
      "cell_type": "code",
      "source": [
        "for dataAirports in Airports:\n",
        "    print (dataAirports)\n",
        "for dataCodes in Codes:\n",
        "    print (dataCodes)\n",
        "for dataCombat in CombatPlanes:\n",
        "    print (dataCombat)"
      ],
      "metadata": {
        "colab": {
          "base_uri": "https://localhost:8080/"
        },
        "id": "zwSihbA94Bat",
        "outputId": "73331238-a4f8-406b-f487-2972fecfe3e6"
      },
      "execution_count": null,
      "outputs": [
        {
          "output_type": "stream",
          "name": "stdout",
          "text": [
            "Aeropuerto Internacional de Toronto\n",
            "1313\n",
            "1564\n",
            "5464\n",
            "4656\n",
            "3235\n",
            "5554\n",
            "5554\n",
            "5554\n",
            "5554\n",
            "2354\n",
            "8956\n",
            "2354\n",
            "2354\n",
            "F-49- BlackHawk\n"
          ]
        }
      ]
    },
    {
      "cell_type": "markdown",
      "source": [],
      "metadata": {
        "id": "Qq_aps0l7r7U"
      }
    },
    {
      "cell_type": "markdown",
      "source": [
        "5.funcion para listas para utilizar en python es : \n",
        "\n",
        "## remove(elemento)\n",
        "\n",
        "*En esta funcion sirve para Eliminar la primera ocurrencia del elemento en la lista.*"
      ],
      "metadata": {
        "id": "ygpd2RTf4qS1"
      }
    },
    {
      "cell_type": "code",
      "source": [
        "\n",
        "   CombatPlanes.remove('F-49- BlackHawk') \n",
        "   Airports.remove('Aeropuerto Internacional de Toronto')"
      ],
      "metadata": {
        "id": "jFxlRe3P44s2"
      },
      "execution_count": null,
      "outputs": []
    },
    {
      "cell_type": "code",
      "source": [
        "for dataAirports in Airports:\n",
        "    print (dataAirports)\n",
        "for dataCodes in Codes:\n",
        "    print (dataCodes)\n",
        "for dataCombat in CombatPlanes:\n",
        "    print (dataCombat)"
      ],
      "metadata": {
        "colab": {
          "base_uri": "https://localhost:8080/"
        },
        "id": "FgwuwGE_5OL-",
        "outputId": "bed0b5fc-ce4d-473f-dbb6-cc1e3a24e565"
      },
      "execution_count": null,
      "outputs": [
        {
          "output_type": "stream",
          "name": "stdout",
          "text": [
            "1313\n",
            "1564\n",
            "5464\n",
            "4656\n",
            "3235\n",
            "5554\n",
            "5554\n",
            "5554\n",
            "5554\n",
            "2354\n",
            "8956\n",
            "2354\n",
            "2354\n"
          ]
        }
      ]
    },
    {
      "cell_type": "markdown",
      "source": [
        "6.funcion para listas para utilizar en python es : \n",
        "\n",
        "##pop([i])\n",
        "\n",
        "*En esta funcion sirve para Obtener y elimina el elemento de la lista en la posición i. Si no se especifica, obtiene y elimina el último elemento.*"
      ],
      "metadata": {
        "id": "2QwzeqOt6wwU"
      }
    },
    {
      "cell_type": "code",
      "source": [
        "   Airports.append('Aeropuerto Internacional de Miami') \n",
        "   CombatPlanes.append('F-22 Raptor')"
      ],
      "metadata": {
        "id": "CsbuuTsG67zf"
      },
      "execution_count": null,
      "outputs": []
    },
    {
      "cell_type": "code",
      "source": [
        "for dataAirports in Airports:\n",
        "    print (dataAirports)\n",
        "for dataCodes in Codes:\n",
        "    print (dataCodes)\n",
        "for dataCombat in CombatPlanes:\n",
        "    print (dataCombat)"
      ],
      "metadata": {
        "colab": {
          "base_uri": "https://localhost:8080/"
        },
        "id": "35A1-uMO7gX-",
        "outputId": "55aa9103-50e0-4a93-d793-a0062dd82473"
      },
      "execution_count": null,
      "outputs": [
        {
          "output_type": "stream",
          "name": "stdout",
          "text": [
            "Aeropuerto Internacional de Miami\n",
            "1313\n",
            "1564\n",
            "5464\n",
            "4656\n",
            "3235\n",
            "5554\n",
            "5554\n",
            "5554\n",
            "5554\n",
            "2354\n",
            "8956\n",
            "2354\n",
            "2354\n",
            "F-22 Raptor\n"
          ]
        }
      ]
    },
    {
      "cell_type": "code",
      "source": [
        "CombatPlanes = ['F-35 Lightning II', 'F-22 Raptor', 'Eurofighter Typhoon', 'Sukhoi Su-35', 'F/A-18E/F Super Hornet','Dassault Rafale','Boeing F-15E Strike Eagle' ,'Saab JAS 39 Gripen']\n",
        "Airports = ['Aeropuerto De Changi', 'Aeropuerto Internacional de Incheon', 'Aeropuerto Internacional de Haneda', 'Aeropuerto Internacional de Hong Kong ']"
      ],
      "metadata": {
        "id": "jXxoRRsG-A3t"
      },
      "execution_count": null,
      "outputs": []
    },
    {
      "cell_type": "markdown",
      "source": [
        "7.funcion para listas para utilizar en python es : \n",
        "\n",
        "##index(elemento)\n",
        "\n",
        "*En esta funcion sirve Obtiene el índice de la primera ocurrencia del elemento en la lista. Si el elemento no se encuentra, se lanza la excepción ValueError*\n"
      ],
      "metadata": {
        "id": "ebd99bo3-J0s"
      }
    },
    {
      "cell_type": "code",
      "source": [
        "   Airports.index('Aeropuerto Internacional de Incheon') \n",
        "   CombatPlanes.index('F-22 Raptor')"
      ],
      "metadata": {
        "colab": {
          "base_uri": "https://localhost:8080/"
        },
        "id": "4BgLqeT6-aKm",
        "outputId": "b452821d-0e80-49fc-e3a4-6770c464ddbb"
      },
      "execution_count": null,
      "outputs": [
        {
          "output_type": "execute_result",
          "data": {
            "text/plain": [
              "1"
            ]
          },
          "metadata": {},
          "execution_count": 57
        }
      ]
    },
    {
      "cell_type": "markdown",
      "source": [
        "8.funcion para listas para utilizar en python es : \n",
        "\n",
        "##\tcount(elemento)\n",
        "\n",
        "*Devuelve el número de ocurrencias del elemento en la lista.*"
      ],
      "metadata": {
        "id": "vS1cIekS-7x9"
      }
    },
    {
      "cell_type": "code",
      "source": [
        "   Airports.count('Aeropuerto Internacional de Hong Kong')"
      ],
      "metadata": {
        "colab": {
          "base_uri": "https://localhost:8080/"
        },
        "id": "Qwb8CErK_MpW",
        "outputId": "52e84afc-9db9-488e-c66c-f936101367b5"
      },
      "execution_count": null,
      "outputs": [
        {
          "output_type": "execute_result",
          "data": {
            "text/plain": [
              "0"
            ]
          },
          "metadata": {},
          "execution_count": 63
        }
      ]
    },
    {
      "cell_type": "code",
      "source": [
        "   CombatPlanes.count('F/A-18E/F Super Hornet')"
      ],
      "metadata": {
        "colab": {
          "base_uri": "https://localhost:8080/"
        },
        "id": "Ad69F9ua_t3u",
        "outputId": "257ae803-4ecf-4530-b9a8-843a5cd0ba91"
      },
      "execution_count": null,
      "outputs": [
        {
          "output_type": "execute_result",
          "data": {
            "text/plain": [
              "1"
            ]
          },
          "metadata": {},
          "execution_count": 64
        }
      ]
    }
  ]
}